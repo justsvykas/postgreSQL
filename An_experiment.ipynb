{
  "nbformat": 4,
  "nbformat_minor": 0,
  "metadata": {
    "colab": {
      "provenance": [],
      "authorship_tag": "ABX9TyM8NNnKcdDm/7NlaNZicdCJ"
    },
    "kernelspec": {
      "name": "python3",
      "display_name": "Python 3"
    },
    "language_info": {
      "name": "python"
    }
  },
  "cells": [
    {
      "cell_type": "code",
      "execution_count": null,
      "metadata": {
        "id": "x9djlgrNKSdE"
      },
      "outputs": [],
      "source": [
        "# an experiment in learning Colab"
      ]
    },
    {
      "cell_type": "code",
      "source": [],
      "metadata": {
        "id": "HubFDJwyKWhZ"
      },
      "execution_count": null,
      "outputs": []
    }
  ]
}